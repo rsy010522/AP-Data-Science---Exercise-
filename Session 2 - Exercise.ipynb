{
 "cells": [
  {
   "cell_type": "markdown",
   "metadata": {},
   "source": [
    "### Task 1:\n",
    "\n",
    "You want to share a dataset that you have collected with Mark. The dataset is stored on your personal cloud. \n",
    "\n",
    "Since the cloud is private and you cannot send the dataset directly to him, you gave him a unique account so that he can access to the cloud at any time he wants.\n",
    "\n",
    "Let's write a simple program that allows Mark to access to your database, following the steps below:\n",
    "1. Ask for his name. (Mark)\n",
    "2. Ask for his password. (markzuck)\n",
    "3. Only grant access for the correct name and password.\n",
    "4. Print the result (access granted or access denied).\n",
    "\n",
    "Hint: use input() and if statement."
   ]
  },
  {
   "cell_type": "code",
   "execution_count": null,
   "metadata": {},
   "outputs": [],
   "source": []
  },
  {
   "cell_type": "markdown",
   "metadata": {},
   "source": [
    "### Task 2: \n",
    "    \n",
    "If Mark typed his name \"mark\" instead of \"Mark\", the written program would stop him from access the database forever. However, you don't want that situation. \n",
    "\n",
    "Let's write another simple program that lets Mark re-types his name.\n",
    "\n",
    "Hint: use input() and while loops with break statement and continue statement."
   ]
  },
  {
   "cell_type": "code",
   "execution_count": null,
   "metadata": {},
   "outputs": [],
   "source": []
  }
 ],
 "metadata": {
  "kernelspec": {
   "display_name": "Python 3",
   "language": "python",
   "name": "python3"
  },
  "language_info": {
   "codemirror_mode": {
    "name": "ipython",
    "version": 3
   },
   "file_extension": ".py",
   "mimetype": "text/x-python",
   "name": "python",
   "nbconvert_exporter": "python",
   "pygments_lexer": "ipython3",
   "version": "3.7.7"
  }
 },
 "nbformat": 4,
 "nbformat_minor": 4
}
